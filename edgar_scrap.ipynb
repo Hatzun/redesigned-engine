{
 "cells": [
  {
   "cell_type": "code",
   "execution_count": 1,
   "metadata": {},
   "outputs": [],
   "source": [
    "import requests\n",
    "import pandas as pd\n",
    "from bs4 import BeautifulSoup\n",
    "import openpyxl\n",
    "from string import Template\n",
    "import pandas as pd"
   ]
  },
  {
   "cell_type": "code",
   "execution_count": 2,
   "metadata": {},
   "outputs": [],
   "source": [
    "def get_cik(tick):\n",
    "    elink = Template(\n",
    "        'https://www.sec.gov/cgi-bin/browse-edgar?action=getcompany&CIK=$ticker'\n",
    "        '&type=&dateb=&owner=exclude&count=100&output=xml')\n",
    "    filled_elink = elink.substitute(ticker=tick)\n",
    "    res = requests.get(filled_elink)\n",
    "    res.raise_for_status()\n",
    "    elinksoup = BeautifulSoup(res.text, 'lxml')\n",
    "    cik_number = elinksoup.cik.string\n",
    "    return cik_number"
   ]
  },
  {
   "cell_type": "code",
   "execution_count": 3,
   "metadata": {},
   "outputs": [],
   "source": [
    "def get_filing_dates(cik):\n",
    "    filing_dates = []\n",
    "    hist_search = Template(\n",
    "        'https://www.sec.gov/cgi-bin/srch-edgar'\n",
    "        '?text=cik%3D%28$ciknum%29+form-type%3D%2810-q*+OR+10-k*%29&first=2010&last=2018')\n",
    "    filled_search = hist_search.substitute(ciknum=cik)\n",
    "    res = requests.get(filled_search)\n",
    "    res.raise_for_status()\n",
    "    hist_soup = BeautifulSoup(res.text, 'lxml')\n",
    "    hist_table = hist_soup.find_all('table')[4]\n",
    "    page_links = hist_table.select('tr > td:nth-of-type(3) > a[href*=\"index\"]')\n",
    "    for el in page_links:\n",
    "        filing_dates.append(scrap_dates(el))\n",
    "    return filing_dates"
   ]
  },
  {
   "cell_type": "code",
   "execution_count": 4,
   "metadata": {},
   "outputs": [],
   "source": [
    "def scrap_dates(element):\n",
    "        plink_filled = 'https://www.sec.gov' + element.get('href')\n",
    "        index_page = requests.get(plink_filled)\n",
    "        index_page_bs = BeautifulSoup(index_page.text, 'lxml')\n",
    "        form_name = index_page_bs.select('div > strong')[0].text\n",
    "        filing_date = index_page_bs.select('[class~=\"info\"]')[0].text\n",
    "        end_period = index_page_bs.select('[class~=\"info\"]')[3].text\n",
    "        ele_dates = {\n",
    "            \"form\":form_name,\n",
    "            \"filed\":filing_date,\n",
    "            \"period\":end_period\n",
    "        }\n",
    "        return ele_dates"
   ]
  },
  {
   "cell_type": "code",
   "execution_count": 3,
   "metadata": {},
   "outputs": [],
   "source": [
    "# load the worksheet and select the sheet with the tickers\n",
    "worksheet = openpyxl.load_workbook(\"worksheet_macro.xlsm\")\n",
    "worksheet.sheetnames\n",
    "wstop = worksheet['Top50']"
   ]
  },
  {
   "cell_type": "code",
   "execution_count": 4,
   "metadata": {},
   "outputs": [],
   "source": [
    "# iterate through the rows to get the tickers of all the companies\n",
    "ticker = []\n",
    "for row in range(0, 50):\n",
    "    ticker.append(wstop['C' + (str(row+2))].value.strip())"
   ]
  },
  {
   "cell_type": "code",
   "execution_count": 82,
   "metadata": {},
   "outputs": [
    {
     "data": {
      "text/plain": [
       "'NFLX'"
      ]
     },
     "execution_count": 82,
     "metadata": {},
     "output_type": "execute_result"
    }
   ],
   "source": [
    "ticker[4]"
   ]
  },
  {
   "cell_type": "code",
   "execution_count": 5,
   "metadata": {},
   "outputs": [
    {
     "data": {
      "text/plain": [
       "'0001065280'"
      ]
     },
     "execution_count": 5,
     "metadata": {},
     "output_type": "execute_result"
    }
   ],
   "source": [
    "get_cik('NFLX')"
   ]
  },
  {
   "cell_type": "code",
   "execution_count": 11,
   "metadata": {},
   "outputs": [],
   "source": [
    "n_dates = get_filing_dates(get_cik('AMZN'))"
   ]
  },
  {
   "cell_type": "code",
   "execution_count": 17,
   "metadata": {},
   "outputs": [
    {
     "data": {
      "text/plain": [
       "'2013-04-26'"
      ]
     },
     "execution_count": 17,
     "metadata": {},
     "output_type": "execute_result"
    }
   ],
   "source": [
    "list(filter(lambda filing: filing['period'] == '2013-03-31', n_dates))[0]['filed']"
   ]
  },
  {
   "cell_type": "code",
   "execution_count": null,
   "metadata": {},
   "outputs": [],
   "source": []
  }
 ],
 "metadata": {
  "kernelspec": {
   "display_name": "Python 3",
   "language": "python",
   "name": "python3"
  },
  "language_info": {
   "codemirror_mode": {
    "name": "ipython",
    "version": 3
   },
   "file_extension": ".py",
   "mimetype": "text/x-python",
   "name": "python",
   "nbconvert_exporter": "python",
   "pygments_lexer": "ipython3",
   "version": "3.6.3"
  }
 },
 "nbformat": 4,
 "nbformat_minor": 1
}
